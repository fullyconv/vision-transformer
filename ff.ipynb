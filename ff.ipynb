{
 "cells": [
  {
   "cell_type": "code",
   "execution_count": 19,
   "metadata": {
    "collapsed": true,
    "ExecuteTime": {
     "start_time": "2023-08-18T21:56:13.904825Z",
     "end_time": "2023-08-18T21:56:13.910837Z"
    }
   },
   "outputs": [],
   "source": [
    "from __future__ import print_function\n",
    "import argparse\n",
    "import torch\n",
    "import torch.nn as nn\n",
    "import torch.nn.functional as F\n",
    "import torch.optim as optim\n",
    "from torchvision import datasets, transforms\n",
    "from torch.optim.lr_scheduler import StepLR\n"
   ]
  },
  {
   "cell_type": "code",
   "execution_count": 20,
   "outputs": [
    {
     "name": "stdout",
     "output_type": "stream",
     "text": [
      "Files already downloaded and verified\n"
     ]
    }
   ],
   "source": [
    "cifar_trainset = datasets.CIFAR10(root='./data', train=True, download=True, transform=None)\n"
   ],
   "metadata": {
    "collapsed": false,
    "ExecuteTime": {
     "start_time": "2023-08-18T21:56:13.910837Z",
     "end_time": "2023-08-18T21:56:14.753181Z"
    }
   }
  },
  {
   "cell_type": "code",
   "execution_count": 36,
   "outputs": [
    {
     "data": {
      "text/plain": "tensor([[[[3, 9, 1,  ..., 6, 8, 6],\n          [1, 0, 8,  ..., 3, 3, 1],\n          [5, 5, 2,  ..., 1, 0, 6],\n          ...,\n          [6, 6, 9,  ..., 9, 6, 0],\n          [0, 6, 7,  ..., 8, 4, 1],\n          [9, 5, 0,  ..., 0, 7, 6]],\n\n         [[6, 2, 1,  ..., 6, 1, 9],\n          [7, 4, 5,  ..., 3, 3, 8],\n          [7, 9, 0,  ..., 3, 0, 1],\n          ...,\n          [9, 4, 1,  ..., 4, 2, 7],\n          [4, 4, 3,  ..., 6, 3, 8],\n          [0, 9, 7,  ..., 1, 8, 8]],\n\n         [[0, 5, 3,  ..., 2, 0, 4],\n          [3, 0, 0,  ..., 9, 9, 1],\n          [8, 8, 1,  ..., 2, 0, 4],\n          ...,\n          [7, 2, 0,  ..., 1, 6, 2],\n          [9, 4, 5,  ..., 9, 9, 8],\n          [7, 9, 9,  ..., 8, 6, 7]]],\n\n\n        [[[3, 8, 7,  ..., 8, 4, 5],\n          [8, 1, 7,  ..., 4, 3, 5],\n          [0, 3, 4,  ..., 0, 0, 5],\n          ...,\n          [9, 2, 0,  ..., 6, 5, 8],\n          [2, 7, 3,  ..., 8, 2, 9],\n          [3, 5, 7,  ..., 1, 4, 2]],\n\n         [[5, 1, 9,  ..., 1, 5, 4],\n          [3, 8, 6,  ..., 3, 3, 0],\n          [1, 4, 6,  ..., 7, 0, 5],\n          ...,\n          [6, 9, 4,  ..., 5, 1, 7],\n          [9, 4, 8,  ..., 6, 0, 2],\n          [4, 3, 9,  ..., 3, 9, 7]],\n\n         [[3, 3, 1,  ..., 7, 6, 4],\n          [0, 9, 4,  ..., 3, 7, 8],\n          [9, 4, 5,  ..., 6, 1, 4],\n          ...,\n          [5, 9, 3,  ..., 7, 3, 6],\n          [9, 8, 1,  ..., 7, 3, 8],\n          [1, 4, 5,  ..., 7, 7, 6]]]])"
     },
     "execution_count": 36,
     "metadata": {},
     "output_type": "execute_result"
    }
   ],
   "source": [],
   "metadata": {
    "collapsed": false,
    "ExecuteTime": {
     "start_time": "2023-08-18T22:07:13.940514Z",
     "end_time": "2023-08-18T22:07:13.949030Z"
    }
   }
  },
  {
   "cell_type": "code",
   "execution_count": 119,
   "outputs": [
    {
     "name": "stdout",
     "output_type": "stream",
     "text": [
      "A\n",
      "torch.Size([2, 16, 192])\n",
      "P\n",
      "torch.Size([2, 16, 16])\n",
      "After all\n",
      "torch.Size([2, 16, 192])\n"
     ]
    }
   ],
   "source": [
    "A=torch.rand(size=(2,3,32,32))\n",
    "A\n",
    "\n",
    "patch_size=8\n",
    "B,C,H,W = A.shape\n",
    "A = A.reshape(B, C, H // patch_size, patch_size, W // patch_size, patch_size)\n",
    "A = A.permute(0, 2, 4, 1, 3, 5)  # [B, H', W', C, p_H, p_W]\n",
    "A = A.flatten(1, 2)  # [B, H'*W', C, p_H, p_W]\n",
    "A = A.flatten(3, 4)  # [B, H'*W', C, p_H, p_W]\n",
    "A = A.flatten(2,3)  # [B, H'*W', C, p_H, p_W]\n",
    "p=torch.matmul(A,A.permute(0,2,1))\n",
    "p=torch.nn.functional.softmax(p,dim=2)\n",
    "print(\"A\")\n",
    "print(A.shape)\n",
    "print(\"P\")\n",
    "print(p.shape)\n",
    "\n",
    "A = torch.matmul(p,A)\n",
    "\n",
    "\n",
    "# A=A.reshape(B,(H // patch_size) *(W // patch_size),1,C*patch_size**2)\n",
    "#\n",
    "print(\"After all\")\n",
    "print(A.shape)\n",
    "# A = A.permute(0, 1, 3, 2)  # [B, H', W', C, p_H, p_W]\n",
    "# print(\"after permutation\")\n",
    "# print(A.shape)\n"
   ],
   "metadata": {
    "collapsed": false,
    "ExecuteTime": {
     "start_time": "2023-08-19T10:57:07.634017Z",
     "end_time": "2023-08-19T10:57:07.651934Z"
    }
   }
  },
  {
   "cell_type": "code",
   "execution_count": 70,
   "outputs": [
    {
     "data": {
      "text/plain": "tensor([[1.0000, 0.9999, 1.0000, 0.9959, 0.9999, 1.0004, 0.9993, 1.0001, 0.9999,\n         0.9999, 1.0009, 1.0012, 1.0023, 1.0003, 0.9999, 1.0001],\n        [1.0000, 1.0012, 0.9999, 1.0000, 0.9998, 1.0002, 1.0000, 1.0000, 0.9995,\n         0.9999, 1.0000, 1.0000, 0.9996, 1.0000, 1.0000, 0.9998]])"
     },
     "execution_count": 70,
     "metadata": {},
     "output_type": "execute_result"
    }
   ],
   "source": [
    "p\n",
    "torch.sum(p,dim=1)"
   ],
   "metadata": {
    "collapsed": false,
    "ExecuteTime": {
     "start_time": "2023-08-18T22:25:23.492504Z",
     "end_time": "2023-08-18T22:25:23.499185Z"
    }
   }
  },
  {
   "cell_type": "code",
   "execution_count": 74,
   "outputs": [
    {
     "data": {
      "text/plain": "torch.Size([16, 16, 2])"
     },
     "execution_count": 74,
     "metadata": {},
     "output_type": "execute_result"
    }
   ],
   "source": [
    "# p=A*A.T\n",
    "p=p.T\n",
    "\n",
    "p.shape\n"
   ],
   "metadata": {
    "collapsed": false,
    "ExecuteTime": {
     "start_time": "2023-08-18T23:14:53.008421Z",
     "end_time": "2023-08-18T23:14:53.009944Z"
    }
   }
  },
  {
   "cell_type": "code",
   "execution_count": 123,
   "outputs": [],
   "source": [
    "class MyViT(nn.Module):\n",
    "    def __init__(self, patch_size=8):\n",
    "        super(MyViT, self).__init__()\n",
    "        self.patch_size = patch_size\n",
    "        self.input_dim = 3*patch_size**2\n",
    "\n",
    "        self.fc1 = nn.Linear(self.input_dim,    self.input_dim*2)\n",
    "        self.fc2 = nn.Linear(self.input_dim*2,  self.input_dim)\n",
    "        self.fc3 = nn.Linear(self.input_dim,    self.input_dim//2)\n",
    "        self.fc4 = nn.Linear(self.input_dim//2, 10)\n",
    "\n",
    "    def forward(self, x):\n",
    "\n",
    "        B, C, H, W = x.shape\n",
    "        x = x.reshape(B, C, H // patch_size, patch_size, W // patch_size, patch_size)\n",
    "        x = x.permute(0, 2, 4, 1, 3, 5)  # [B, H', W', C, p_H, p_W]\n",
    "        x = x.flatten(1, 2)  # [B, H'*W', C, p_H, p_W]\n",
    "        x = x.flatten(3, 4)  # [B, H'*W', C, p_H*p_W]\n",
    "        x = x.flatten(2,3)  # [B, H'*W', C*p_H*p_W]\n",
    "        p = torch.matmul(x,x.permute(0,2,1)) # [B, H'*W', H'*W']\n",
    "\n",
    "        d_k = torch.tensor(C* H* W//(patch_size**2))\n",
    "        # d_k=d_k.\n",
    "        print((d_k))\n",
    "        p = torch.nn.functional.softmax(p/torch.sqrt(d_k),dim=2)\n",
    "        x = torch.matmul(p,x) # [B, H'*W', C*p_H*p_W ]\n",
    "        x=self.fc1(x)\n",
    "        x=self.fc2(x)\n",
    "        x=self.fc3(x)\n",
    "        x=torch.sum(x,dim=1) # [B, C*p_H*p_W//2 ]\n",
    "        x=self.fc4(x)        # [B, 10]\n",
    "\n",
    "        output = F.log_softmax(x, dim=1)\n",
    "        return output\n"
   ],
   "metadata": {
    "collapsed": false,
    "ExecuteTime": {
     "start_time": "2023-08-19T11:00:34.694148Z",
     "end_time": "2023-08-19T11:00:34.710178Z"
    }
   }
  },
  {
   "cell_type": "code",
   "execution_count": 124,
   "outputs": [],
   "source": [
    "mymodel=MyViT()"
   ],
   "metadata": {
    "collapsed": false,
    "ExecuteTime": {
     "start_time": "2023-08-19T11:00:35.743554Z",
     "end_time": "2023-08-19T11:00:35.766815Z"
    }
   }
  },
  {
   "cell_type": "code",
   "execution_count": 126,
   "outputs": [
    {
     "name": "stdout",
     "output_type": "stream",
     "text": [
      "tensor(48)\n"
     ]
    }
   ],
   "source": [
    "result=mymodel(torch.rand(2,3,32,32))"
   ],
   "metadata": {
    "collapsed": false,
    "ExecuteTime": {
     "start_time": "2023-08-19T11:00:46.454186Z",
     "end_time": "2023-08-19T11:00:46.465042Z"
    }
   }
  },
  {
   "cell_type": "code",
   "execution_count": 127,
   "outputs": [
    {
     "data": {
      "text/plain": "torch.Size([2, 10])"
     },
     "execution_count": 127,
     "metadata": {},
     "output_type": "execute_result"
    }
   ],
   "source": [],
   "metadata": {
    "collapsed": false,
    "ExecuteTime": {
     "start_time": "2023-08-19T11:00:53.413728Z",
     "end_time": "2023-08-19T11:00:53.445224Z"
    }
   }
  },
  {
   "cell_type": "code",
   "execution_count": null,
   "outputs": [],
   "source": [],
   "metadata": {
    "collapsed": false
   }
  }
 ],
 "metadata": {
  "kernelspec": {
   "display_name": "Python 3",
   "language": "python",
   "name": "python3"
  },
  "language_info": {
   "codemirror_mode": {
    "name": "ipython",
    "version": 2
   },
   "file_extension": ".py",
   "mimetype": "text/x-python",
   "name": "python",
   "nbconvert_exporter": "python",
   "pygments_lexer": "ipython2",
   "version": "2.7.6"
  }
 },
 "nbformat": 4,
 "nbformat_minor": 0
}
